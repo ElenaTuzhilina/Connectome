{
 "cells": [
  {
   "cell_type": "code",
   "execution_count": 4,
   "metadata": {},
   "outputs": [],
   "source": [
    "library(ggplot2)\n",
    "library(gridExtra)\n",
    "library(grid)\n",
    "library(matrixStats)\n",
    "library(fda)"
   ]
  },
  {
   "cell_type": "markdown",
   "metadata": {},
   "source": [
    "# Load data"
   ]
  },
  {
   "cell_type": "markdown",
   "metadata": {},
   "source": [
    "Set up the folders that contains data."
   ]
  },
  {
   "cell_type": "code",
   "execution_count": 5,
   "metadata": {},
   "outputs": [],
   "source": [
    "c_folder_name = 'NIH/Rest'\n",
    "q_folder_name = 'NIH'"
   ]
  },
  {
   "cell_type": "markdown",
   "metadata": {},
   "source": [
    "Load questionnaires, connectome  and variance explained data."
   ]
  },
  {
   "cell_type": "code",
   "execution_count": null,
   "metadata": {},
   "outputs": [],
   "source": [
    "c = read.table(paste('Data/Connectome/', c_folder_name, '/Adjust/c_adj.csv', sep = ''), sep = ',', header = TRUE, row.names = 1)"
   ]
  },
  {
   "cell_type": "code",
   "execution_count": null,
   "metadata": {},
   "outputs": [],
   "source": [
    "q = read.table(paste('Data/Questionnaire/', q_folder_name, '/Adjust/q_adj.csv', sep = ''), sep = ',', header = TRUE, row.names = 1)\n",
    "q = q[rownames(c),]"
   ]
  },
  {
   "cell_type": "markdown",
   "metadata": {},
   "source": [
    "Pick only negative questionnaires."
   ]
  },
  {
   "cell_type": "code",
   "execution_count": null,
   "metadata": {},
   "outputs": [],
   "source": [
    "q = q[,1:6]\n",
    "colnames(q)"
   ]
  },
  {
   "cell_type": "markdown",
   "metadata": {},
   "source": [
    "Load group labels."
   ]
  },
  {
   "cell_type": "code",
   "execution_count": null,
   "metadata": {},
   "outputs": [],
   "source": [
    "groups = unlist(read.table('Data/Connectome/region_to_region.csv', sep = ',', header = FALSE))"
   ]
  },
  {
   "cell_type": "markdown",
   "metadata": {},
   "source": [
    "# Cross-Validated Group RCCA\n",
    "Splits the data in train (80%) and test (20%) at random and returns the canonical correlations for training and test data.\n",
    "Calculate 1SD confidence intervals for train and test canonical correlations."
   ]
  },
  {
   "cell_type": "code",
   "execution_count": null,
   "metadata": {},
   "outputs": [],
   "source": [
    "GRCCA_CV = function(X, Y, lambda1s, nus, groups, nreps = 100){\n",
    "    ncomp = ncol(Y)\n",
    "    n = nrow(X)\n",
    "    colnames(X) = groups\n",
    "    cor_cv = c()\n",
    "    group_names = unique(sort(groups))\n",
    "    ngs = table(groups)\n",
    "    agg = aggregate(t(X), by = list(groups), FUN = mean)\n",
    "    Xmean = t(agg[, -1])\n",
    "    colnames(Xmean) = agg[, 1]  \n",
    "    for(nu in nus){\n",
    "        #create extended matrix\n",
    "        Xextended = cbind(scale(Xmean[,group_names], center = FALSE, scale = sqrt(nu/ngs[group_names])), X - Xmean[,groups])\n",
    "        #compute R and V for extended matrix\n",
    "        SVD = svd(Xextended)\n",
    "        R = SVD$u %*% diag(SVD$d)\n",
    "        V = SVD$v\n",
    "        rownames(V) = colnames(Xextended)\n",
    "        for(lambda1 in lambda1s){\n",
    "            cor_train = matrix(0, ncomp, nreps)\n",
    "            cor_test = matrix(0, ncomp, nreps)\n",
    "            colnames(cor_train) = paste('seed', 1:nreps, sep = '')\n",
    "            colnames(cor_test) = paste('seed', 1:nreps, sep = '')\n",
    "            #repeat split nreps times and save train and test correlations\n",
    "            for(i in 1:nreps){\n",
    "                set.seed(i)\n",
    "                #split data into train and test\n",
    "                ind_train = sample(n, size = round(n * 0.8))\n",
    "                #run RCCA\n",
    "                Crr = var(R[ind_train, ], na.rm = TRUE, use = \"pairwise\") + diag(lambda1, ncol(R))\n",
    "                Cyy = var(Y[ind_train, ], na.rm = TRUE, use = \"pairwise\")\n",
    "                Cry = cov(R[ind_train, ], Y[ind_train, ], use = \"pairwise\")\n",
    "                RCCA = geigen(Cry, Crr, Cyy)\n",
    "                names(RCCA) = c(\"cor\", \"xcoef\", \"ycoef\")\n",
    "                #transform alpha to Xextended basis\n",
    "                RCCA$xcoef = V %*% RCCA$xcoef\n",
    "                #transform alpha to X basis\n",
    "                alphaXmean = RCCA$xcoef[1:ncol(Xmean),]\n",
    "                alphaXmean = t(scale(t(alphaXmean), center = FALSE, scale = sqrt(ngs[rownames(alphaXmean)] * nu)))\n",
    "                alphaX = RCCA$xcoef[-(1:ncol(Xmean)),]\n",
    "                alpha = alphaX + alphaXmean[groups,]\n",
    "                beta = RCCA$ycoef\n",
    "                #compute train and test correlation\n",
    "                cor_train[,i] = RCCA$cor\n",
    "                cor_test[,i] = diag(cor(X[-ind_train, ]%*%alpha, Y[-ind_train, ]%*%beta))\n",
    "            }\n",
    "            cor_cv = rbind(cor_cv, data.frame(cor_train, 'comp' = 1:ncomp, 'set' = 'train', 'lambda1' = lambda1, 'nu' = nu), \n",
    "                             data.frame(cor_test, 'comp' = 1:ncomp, 'set' = 'test', 'lambda1' = lambda1, 'nu' = nu))\n",
    "        }\n",
    "    }\n",
    "    return(cor_cv)\n",
    "}"
   ]
  },
  {
   "cell_type": "markdown",
   "metadata": {},
   "source": [
    "# Run grid search for GRCCA"
   ]
  },
  {
   "cell_type": "markdown",
   "metadata": {},
   "source": [
    "Vary $\\lambda_1$ and $\\nu$ and compute GRCCA."
   ]
  },
  {
   "cell_type": "code",
   "execution_count": null,
   "metadata": {
    "scrolled": true
   },
   "outputs": [],
   "source": [
    "nus = 10^seq(-5,7)\n",
    "lambda1s = 10^seq(-2,4)\n",
    "nreps = 100\n",
    "\n",
    "cor_cv = GRCCA_CV(as.matrix(c), as.matrix(q), lambda1s, nus, groups, nreps)\n",
    "write.csv(cor_cv, file = paste('Data/Connectome/', c_folder_name, '/GRCCA/grcca_cor.csv', sep = ''), row.names = FALSE)"
   ]
  },
  {
   "cell_type": "markdown",
   "metadata": {},
   "source": [
    "Plot GRCCA results for different values of $\\lambda_1$ and $\\nu$."
   ]
  },
  {
   "cell_type": "code",
   "execution_count": null,
   "metadata": {},
   "outputs": [],
   "source": [
    "cor_plots = list()\n",
    "ncomp = ncol(q)\n",
    "i = 1\n",
    "\n",
    "for(r in nus){\n",
    "    for(lam1 in lambda1s){\n",
    "        cor_train = data.frame(t(subset(cor_cv, lambda1 == lam1 & nu == r & set == 'train')[, 1:nreps]))\n",
    "        colnames(cor_train) = 1:ncomp\n",
    "        cor_test = data.frame(t(subset(cor_cv, lambda1 == lam1 & nu == r & set == 'test')[, 1:nreps]))\n",
    "        colnames(cor_test) = 1:ncomp     \n",
    "        cor_plots[[i]] = ggplot() +\n",
    "            geom_hline(yintercept = 0, color = 'darkgreen') +\n",
    "            geom_boxplot(stack(cor_train), mapping = aes(x = ind, y = values), outlier.alpha = 0, fatten = 0, fill = 'white')+\n",
    "            geom_boxplot(stack(cor_test), mapping = aes(x = ind, y = values), outlier.alpha = 0, fatten = 0, fill = 'white')+\n",
    "            geom_point(data.frame('x' = 1:ncomp, 'y' = colMeans(cor_train)), mapping = aes(x, y), size = 2, shape = 23, color = 'red', fill = 'red') +\n",
    "            geom_point(data.frame('x' = 1:ncomp, 'y' = colMeans(cor_test)), mapping = aes(x, y), size = 2, shape = 23, color = 'blue', fill = 'blue') +    \n",
    "            ylim(-0.3, 1.1)+\n",
    "            xlab('component') +\n",
    "            ylab('correlation')+\n",
    "            ggtitle(bquote(paste(lambda[1], '=', .(lam1), '   ', lambda[2]/lambda[1], '=', .(r))))\n",
    "        i = i + 1\n",
    "    }\n",
    "}\n",
    "cor_plots = do.call(\"grid.arrange\", c(cor_plots, nrow = length(nus)))\n",
    "ggsave(file = paste('Data/Connectome/', c_folder_name, '/GRCCA/grcca_grid_search(boxplot).png', sep = ''), device = 'png', plot = cor_plots, width = 20, height = 40)"
   ]
  },
  {
   "cell_type": "markdown",
   "metadata": {},
   "source": [
    "Search for the best $\\lambda_1$ and $\\nu$ with the highest value of the first test canonical correlation."
   ]
  },
  {
   "cell_type": "code",
   "execution_count": null,
   "metadata": {},
   "outputs": [],
   "source": [
    "first_plots = list()\n",
    "i = 1\n",
    "\n",
    "for(r in nus){\n",
    "    first = data.frame(t(subset(cor_cv, nu == r & set == 'test' & comp == 1)[,1:nreps]))\n",
    "    colnames(first) = lambda1s\n",
    "    center = colMeans(first)\n",
    "    lambda_opt = lambda1s[which.max(center)]\n",
    "    first_plots[[i]] = ggplot() +\n",
    "        geom_hline(yintercept = 0, color = 'darkgreen') +\n",
    "        geom_boxplot(stack(first), mapping = aes(x = as.factor(log(as.numeric(paste(ind)), 10)), y = values), outlier.alpha = 0, fatten = 0, fill = 'white')+\n",
    "        geom_point(data.frame('lambda' = lambda1s, 'cor' = center), mapping = aes(x = as.factor(log(lambda, 10)), y = cor), size = 2, shape = 23, color = 'blue', fill = 'blue') +\n",
    "        geom_line(data.frame('lambda' = lambda1s, 'cor' = center), mapping = aes(x = as.factor(log(lambda, 10)), y = cor), color = 'blue', group = 1) + \n",
    "        xlab(bquote(paste('log(', lambda[1], ')', sep = ''))) +\n",
    "        ylab('first canonical correlation')+\n",
    "        ggtitle(bquote(paste(lambda[2]/lambda[1], '=', .(r), '     ', 'max correlation = ', .(round(max(center), 4)), '     ', lambda[1], ' optimal = ', .(lambda_opt), sep = ' ')))\n",
    "        i = i + 1\n",
    "}\n",
    "first_plots = do.call(\"grid.arrange\", c(first_plots, nrow = length(nus)))\n",
    "ggsave(file = paste('Data/Connectome/', c_folder_name, '/GRCCA/grcca_best_lambda(boxplot).png', sep = ''), device = 'png', plot = first_plots, width = 6, height = 35)"
   ]
  },
  {
   "cell_type": "markdown",
   "metadata": {},
   "source": [
    "# Calculate RCCA for the best lambda."
   ]
  },
  {
   "cell_type": "code",
   "execution_count": null,
   "metadata": {},
   "outputs": [],
   "source": [
    "GRCCA = function(X, Y, lambda1, nu, groups){\n",
    "    colnames(X) = groups\n",
    "    group_names = unique(sort(groups))\n",
    "    ngs = table(groups)\n",
    "    agg = aggregate(t(X), by = list(groups), FUN = mean)\n",
    "    Xmean = t(agg[, -1])\n",
    "    colnames(Xmean) = agg[, 1]\n",
    "    Xextended = cbind(scale(Xmean[,group_names], center = FALSE, scale =  sqrt(nu/ngs[group_names])), X - Xmean[,groups])\n",
    "    SVD = svd(Xextended)\n",
    "    R = SVD$u %*% diag(SVD$d)\n",
    "    V = SVD$v\n",
    "    rownames(V) = colnames(Xextended)\n",
    "    Cxx = var(R, na.rm = TRUE, use = \"pairwise\") + diag(lambda1, ncol(R))\n",
    "    Cyy = var(Y, na.rm = TRUE, use = \"pairwise\")\n",
    "    Cxy = cov(R, Y, use = \"pairwise\")\n",
    "    res = geigen(Cxy, Cxx, Cyy)\n",
    "    names(res) = c(\"cor\", \"xcoef\", \"ycoef\")\n",
    "    res$xcoef = V %*% res$xcoef\n",
    "    alpha0 = res$xcoef[1:ncol(Xmean),]\n",
    "    alpha0 = t(scale(t(alpha0), center = FALSE, scale = sqrt(ngs[rownames(alpha0)] * nu) ))\n",
    "    alpha = res$xcoef[-(1:ncol(Xmean)),]\n",
    "    res$xcoef = alpha + alpha0[groups,]    \n",
    "    return(list(cor = res$cor, xcoef = res$xcoef, ycoef = res$ycoef))\n",
    "}"
   ]
  },
  {
   "cell_type": "code",
   "execution_count": null,
   "metadata": {},
   "outputs": [],
   "source": [
    "#Emotion\n",
    "#nu_opt = 10^(-4)\n",
    "#lambda1_opt = 10000\n",
    "#Rest\n",
    "#nu_opt = 1000\n",
    "#lambda1_opt = 10 \n",
    "best = GRCCA(as.matrix(c), as.matrix(q), lambda1_opt, nu_opt, groups)"
   ]
  },
  {
   "cell_type": "markdown",
   "metadata": {},
   "source": [
    "Save the loadings. "
   ]
  },
  {
   "cell_type": "code",
   "execution_count": null,
   "metadata": {},
   "outputs": [],
   "source": [
    "alpha = best$xcoef \n",
    "colnames(alpha) = paste('GRCCA', 1:ncol(alpha), sep = '')\n",
    "beta = best$ycoef\n",
    "colnames(beta) = paste('GRCCA', 1:ncol(beta), sep = '')\n",
    "write.csv(data.frame('c_pair' = colnames(c), alpha), file = paste('Data/Connectome/', c_folder_name, '/GRCCA/alpha.csv', sep = ''), row.names = FALSE)\n",
    "write.csv(data.frame('q' = rownames(beta), beta), file = paste('Data/Connectome/', c_folder_name, '/GRCCA/beta.csv', sep = ''), row.names = FALSE)"
   ]
  },
  {
   "cell_type": "markdown",
   "metadata": {},
   "source": [
    "Save scores."
   ]
  },
  {
   "cell_type": "code",
   "execution_count": null,
   "metadata": {},
   "outputs": [],
   "source": [
    "brain_scores = as.matrix(c)%*%as.matrix(alpha)\n",
    "write.csv(data.frame('Subject' = rownames(brain_scores), brain_scores), file = paste('Data/Connectome/', c_folder_name, '/GRCCA/brain_scores.csv', sep = ''), row.names = FALSE)\n",
    "questionnaire_scores = as.matrix(q)%*%as.matrix(beta)\n",
    "write.csv(data.frame('Subject' = rownames(questionnaire_scores), questionnaire_scores), file = paste('Data/Connectome/', c_folder_name, '/GRCCA/questionnaire_scores.csv', sep = ''), row.names = FALSE)"
   ]
  },
  {
   "cell_type": "markdown",
   "metadata": {},
   "source": [
    "# Check mean and sd of coefficients"
   ]
  },
  {
   "cell_type": "code",
   "execution_count": null,
   "metadata": {},
   "outputs": [],
   "source": [
    "avg = aggregate(alpha, by = list(groups), FUN = mean)\n",
    "rownames(avg) = avg[,1]\n",
    "avg = avg[,-1]\n",
    "quantile(avg[,1])"
   ]
  },
  {
   "cell_type": "code",
   "execution_count": null,
   "metadata": {},
   "outputs": [],
   "source": [
    "sds = aggregate(alpha, by = list(groups), FUN = sd)\n",
    "rownames(sds) = sds[,1]\n",
    "sds = sds[,-1]\n",
    "quantile(sds[,1], na.rm = TRUE)"
   ]
  }
 ],
 "metadata": {
  "kernelspec": {
   "display_name": "R",
   "language": "R",
   "name": "ir"
  },
  "language_info": {
   "codemirror_mode": "r",
   "file_extension": ".r",
   "mimetype": "text/x-r-source",
   "name": "R",
   "pygments_lexer": "r",
   "version": "3.6.1"
  }
 },
 "nbformat": 4,
 "nbformat_minor": 2
}
