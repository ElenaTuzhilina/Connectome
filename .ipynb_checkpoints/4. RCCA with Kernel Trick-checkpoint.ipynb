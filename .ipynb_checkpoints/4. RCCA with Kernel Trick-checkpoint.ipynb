{
 "cells": [
  {
   "cell_type": "code",
   "execution_count": null,
   "metadata": {},
   "outputs": [],
   "source": [
    "library(ggplot2)\n",
    "library(gridExtra)\n",
    "library(grid)\n",
    "library(matrixStats)\n",
    "library(fda)"
   ]
  },
  {
   "cell_type": "markdown",
   "metadata": {},
   "source": [
    "# Load data"
   ]
  },
  {
   "cell_type": "markdown",
   "metadata": {},
   "source": [
    "Set up the folders that contains data."
   ]
  },
  {
   "cell_type": "code",
   "execution_count": null,
   "metadata": {},
   "outputs": [],
   "source": [
    "task = 'Rest'\n",
    "adjust = 'gender_motion'"
   ]
  },
  {
   "cell_type": "markdown",
   "metadata": {},
   "source": [
    "Load questionnaires and connectome."
   ]
  },
  {
   "cell_type": "code",
   "execution_count": null,
   "metadata": {},
   "outputs": [],
   "source": [
    "c = read.table(paste('Data/Connectome/', task, '/Adjust/c_adj_', adjust, '.csv', sep = ''), sep = ',', header = TRUE, row.names = 1)"
   ]
  },
  {
   "cell_type": "code",
   "execution_count": null,
   "metadata": {},
   "outputs": [],
   "source": [
    "q = read.table(paste('Data/Questionnaire/Adjust/q_adj_gender.csv', sep = ''), sep = ',', header = TRUE, row.names = 1)"
   ]
  },
  {
   "cell_type": "markdown",
   "metadata": {},
   "source": [
    "# Load train and test subjects"
   ]
  },
  {
   "cell_type": "code",
   "execution_count": null,
   "metadata": {},
   "outputs": [],
   "source": [
    "subject_train = read.table(paste('Data/Questionnaire/subject_train.csv', sep = ''), sep = ',', header = TRUE)\n",
    "subject_test = read.table(paste('Data/Questionnaire/subject_test.csv', sep = ''), sep = ',', header = TRUE)"
   ]
  },
  {
   "cell_type": "code",
   "execution_count": null,
   "metadata": {},
   "outputs": [],
   "source": [
    "c_train = as.matrix(c[as.character(subject_train$Subject),])\n",
    "c_test = as.matrix(c[as.character(subject_test$Subject),])"
   ]
  },
  {
   "cell_type": "code",
   "execution_count": null,
   "metadata": {},
   "outputs": [],
   "source": [
    "q_train = as.matrix(q[as.character(subject_train$Subject),])\n",
    "q_test = as.matrix(q[as.character(subject_test$Subject),])"
   ]
  },
  {
   "cell_type": "markdown",
   "metadata": {},
   "source": [
    "# Load K-fold cross-validation split"
   ]
  },
  {
   "cell_type": "code",
   "execution_count": null,
   "metadata": {},
   "outputs": [],
   "source": [
    "split_train = subject_train$Split\n",
    "K = max(split_train)"
   ]
  },
  {
   "cell_type": "markdown",
   "metadata": {},
   "source": [
    "# Cross-Validated RCCA"
   ]
  },
  {
   "cell_type": "markdown",
   "metadata": {},
   "source": [
    "Splits the data in train (90%) and test (10%) at random and returns the canonical correlations for training and test data.\n",
    "Calculate 1SD confidence intervals for train and test canonical correlations."
   ]
  },
  {
   "cell_type": "code",
   "execution_count": null,
   "metadata": {},
   "outputs": [],
   "source": [
    "RCCA_CV = function(X, Y, lambda1s, split){\n",
    "    K = max(split)\n",
    "    ncomp = min(ncol(X), ncol(Y))\n",
    "    n = nrow(X)\n",
    "    cor_cv = c()\n",
    "    #compute R and V for matrix X\n",
    "    SVD = svd(X)\n",
    "    R = SVD$u %*% diag(SVD$d)\n",
    "    V = SVD$v\n",
    "    rownames(V) = colnames(X)\n",
    "    for(lambda1 in lambda1s){\n",
    "        cor_train = matrix(0, ncomp, K)\n",
    "        cor_test = matrix(0, ncomp, K)\n",
    "        colnames(cor_train) = paste('split', 1:K, sep = '')\n",
    "        colnames(cor_test) = paste('split', 1:K, sep = '')\n",
    "        #repeat split nreps times and save train and test correlations\n",
    "        for(k in 1:K){\n",
    "            #split the data into train and test\n",
    "            ind_test = (split == k)\n",
    "            ind_train = (split != k)\n",
    "            #run RCCA\n",
    "            Crr = var(R[ind_train, ], na.rm = TRUE, use = \"pairwise\") + diag(lambda1, ncol(R))\n",
    "            Cyy = var(Y[ind_train, ], na.rm = TRUE, use = \"pairwise\")\n",
    "            Cry = cov(R[ind_train, ], Y[ind_train, ], use = \"pairwise\")\n",
    "            RCCA = geigen(Cry, Crr, Cyy)\n",
    "            names(RCCA) = c(\"cor\", \"xcoef\", \"ycoef\")\n",
    "            #compute coefficients\n",
    "            alpha = V %*% RCCA$xcoef\n",
    "            beta = RCCA$ycoef\n",
    "            #compute train and test correlation\n",
    "            cor_train[,k] = RCCA$cor\n",
    "            cor_test[,k] = diag(cor(X[ind_test, ]%*%alpha, Y[ind_test, ]%*%beta))\n",
    "        }\n",
    "        cor_cv = rbind(cor_cv, data.frame(cor_train, 'comp' = 1:ncomp, 'set' = 'train', 'lambda1' = lambda1), \n",
    "                             data.frame(cor_test, 'comp' = 1:ncomp, 'set' = 'test', 'lambda1' = lambda1))\n",
    "    }\n",
    "    return(cor_cv)\n",
    " }"
   ]
  },
  {
   "cell_type": "markdown",
   "metadata": {},
   "source": [
    "# Run grid search for RCCA"
   ]
  },
  {
   "cell_type": "markdown",
   "metadata": {},
   "source": [
    "Vary $\\lambda_1$ and compute GRCCA."
   ]
  },
  {
   "cell_type": "code",
   "execution_count": null,
   "metadata": {},
   "outputs": [],
   "source": [
    "lambda1s = 10^seq(-2,6)\n",
    "\n",
    "cor_cv = RCCA_CV(c_train, q_train, lambda1s, split_train)\n",
    "write.csv(cor_cv, file = paste('Data/Connectome/', task, '/RCCA/corelation_adj_', adjust, '_train_cv.csv', sep = ''), row.names = FALSE)"
   ]
  },
  {
   "cell_type": "markdown",
   "metadata": {},
   "source": [
    "Plot GRCCA results for different values of $\\lambda_1$ and $\\nu$."
   ]
  },
  {
   "cell_type": "code",
   "execution_count": null,
   "metadata": {},
   "outputs": [],
   "source": [
    "cor_plots = list()\n",
    "ncomp = min(ncol(c), ncol(q))\n",
    "i = 1\n",
    "df = c()\n",
    "for(lam1 in lambda1s){\n",
    "    cor_train = subset(cor_cv, lambda1 == lam1 & set == 'train', select = -c(lambda1, set, comp))\n",
    "    df_train = data.frame('component' = 1:ncomp, 'mean' = apply(cor_train, 1, mean), 'se' = apply(cor_train, 1, sd)/sqrt(K), 'set' = 'train', 'lambda1' = lam1) \n",
    "    cor_test = subset(cor_cv, lambda1 == lam1 & set == 'test', select = -c(lambda1, set, comp))\n",
    "    df_test = data.frame('component' = 1:ncomp, 'mean' = apply(cor_test, 1, mean), 'se' = apply(cor_test, 1, sd)/sqrt(K), 'set' = 'test', 'lambda1' = lam1) \n",
    "    df = rbind(df, df_train, df_test)\n",
    "}"
   ]
  },
  {
   "cell_type": "code",
   "execution_count": null,
   "metadata": {},
   "outputs": [],
   "source": [
    "library(gridExtra) \n",
    "ggplot(df, aes(x = component, y = mean, fill = set, color = set, group = set)) +\n",
    "geom_hline(yintercept = 0, size = 0.3, color = 'darkgreen')+\n",
    "geom_point(size = 1.5, shape = 23) +\n",
    "geom_errorbar(aes(ymin = mean - se, ymax = mean + se, group = set), width=0.1, color = 'black', size = 0.7)+\n",
    "facet_wrap(~lambda1,  labeller = label_bquote(paste(lambda[1], '=', .(lambda1))))+\n",
    "scale_fill_manual(values = c('red', 'blue'))+\n",
    "scale_color_manual(values = c('red', 'blue'))+\n",
    "ylim(-0.1, 1.1)+\n",
    "ylab('correlation')\n",
    "ggsave(file = paste('Data/Connectome/', task, '/RCCA/grid_search_adj_', adjust,'.png', sep = ''), device = 'png', width = 6, height = 8)"
   ]
  },
  {
   "cell_type": "markdown",
   "metadata": {},
   "source": [
    "Search for the best $\\lambda_1$ with the highest value of the first test canonical correlation."
   ]
  },
  {
   "cell_type": "code",
   "execution_count": null,
   "metadata": {},
   "outputs": [],
   "source": [
    "df_first = subset(df, component == 1 & set == 'test')\n",
    "lambda1_opt = lambda1s[which.max(df_first$mean)]\n",
    "cor_opt = max(df_first$mean)"
   ]
  },
  {
   "cell_type": "code",
   "execution_count": null,
   "metadata": {},
   "outputs": [],
   "source": [
    "ggplot(df_first, aes(x = log(lambda1, 10), y = mean)) +\n",
    "geom_hline(yintercept = 0, size = 0.3, color = 'darkgreen')+\n",
    "geom_point(size = 1.5, shape = 23, color = 'blue', fill = 'blue') +\n",
    "geom_line(color = 'blue')+\n",
    "geom_errorbar(aes(ymin = mean - se, ymax = mean + se, group = set), width=0.1, color = 'black', size = 0.7)+\n",
    "ylab('correlation')+\n",
    "xlab(bquote(paste('log(', lambda[1], ')', sep = '')))+\n",
    "ggtitle(bquote(paste('max correlation = ', .(round(cor_opt,3)), '  for  ', lambda[1], '=', .(lambda1_opt))))\n",
    "\n",
    "ggsave(file = paste('Data/Connectome/', task, '/RCCA/best_lambda_adj_', adjust, '.png', sep = ''), device = 'png', width = 7, height = 3)"
   ]
  },
  {
   "cell_type": "markdown",
   "metadata": {},
   "source": [
    "# Calculate RCCA for the best lambda"
   ]
  },
  {
   "cell_type": "code",
   "execution_count": null,
   "metadata": {},
   "outputs": [],
   "source": [
    "RCCA = function(X, Y, lambda1){\n",
    "    SVD = svd(X)\n",
    "    R = SVD$u %*% diag(SVD$d)\n",
    "    V = SVD$v\n",
    "    rownames(V) = colnames(X)\n",
    "    Crr = var(R, na.rm = TRUE, use = \"pairwise\") + diag(lambda1, ncol(R))\n",
    "    Cyy = var(Y, na.rm = TRUE, use = \"pairwise\")\n",
    "    Cry = cov(R, Y, use = \"pairwise\")\n",
    "    RCCA = geigen(Cry, Crr, Cyy)\n",
    "    names(RCCA) = c(\"cor\", \"xcoef\", \"ycoef\")\n",
    "    RCCA$xcoef = V %*% RCCA$xcoef\n",
    "    return(list(cor = RCCA$cor, xcoef = RCCA$xcoef, ycoef = RCCA$ycoef))\n",
    "}"
   ]
  },
  {
   "cell_type": "code",
   "execution_count": null,
   "metadata": {},
   "outputs": [],
   "source": [
    "best = RCCA(as.matrix(c_train), as.matrix(q_train), lambda1_opt)\n",
    "cat('lambda optimal =', lambda1_opt)"
   ]
  },
  {
   "cell_type": "markdown",
   "metadata": {},
   "source": [
    "Save the loadings. "
   ]
  },
  {
   "cell_type": "code",
   "execution_count": null,
   "metadata": {},
   "outputs": [],
   "source": [
    "alpha = best$xcoef\n",
    "colnames(alpha) = paste('RCCA', 1:ncol(alpha), sep = '')\n",
    "beta = best$ycoef\n",
    "colnames(beta) = paste('RCCA', 1:ncol(beta), sep = '')\n",
    "write.csv(data.frame('c_pair' = rownames(alpha), alpha), file = paste('Data/Connectome/', task, '/RCCA/alpha_adj_', adjust,'.csv', sep = ''), row.names = FALSE)\n",
    "write.csv(data.frame('q' = rownames(beta), beta), file = paste('Data/Connectome/', task, '/RCCA/beta_adj_', adjust,'.csv', sep = ''), row.names = FALSE)"
   ]
  },
  {
   "cell_type": "markdown",
   "metadata": {},
   "source": [
    "Save scores train."
   ]
  },
  {
   "cell_type": "code",
   "execution_count": null,
   "metadata": {},
   "outputs": [],
   "source": [
    "brain_scores = as.matrix(c_train)%*%as.matrix(alpha)\n",
    "write.csv(data.frame('Subject' = rownames(brain_scores), brain_scores), file = paste('Data/Connectome/', task, '/RCCA/brain_scores_adj_', adjust,'_train.csv', sep = ''), row.names = FALSE)\n",
    "questionnaire_scores = as.matrix(q_train)%*%as.matrix(beta)\n",
    "write.csv(data.frame('Subject' = rownames(questionnaire_scores), questionnaire_scores), file = paste('Data/Connectome/', task, '/RCCA/questionnaire_scores_adj_', adjust,'_train.csv', sep = ''), row.names = FALSE)\n",
    "cors = diag(cor(brain_scores, questionnaire_scores))\n",
    "write.csv(data.frame(t(cors)), file = paste('Data/Connectome/', task, '/RCCA/correlation_adj_', adjust,'_train.csv', sep = ''), row.names = FALSE)"
   ]
  },
  {
   "cell_type": "markdown",
   "metadata": {},
   "source": [
    "Save scores test."
   ]
  },
  {
   "cell_type": "code",
   "execution_count": null,
   "metadata": {},
   "outputs": [],
   "source": [
    "brain_scores = as.matrix(c_test)%*%as.matrix(alpha)\n",
    "write.csv(data.frame('Subject' = rownames(brain_scores), brain_scores), file = paste('Data/Connectome/', task, '/RCCA/brain_scores_adj_', adjust,'_test.csv', sep = ''), row.names = FALSE)\n",
    "questionnaire_scores = as.matrix(q_test)%*%as.matrix(beta)\n",
    "write.csv(data.frame('Subject' = rownames(questionnaire_scores), questionnaire_scores), file = paste('Data/Connectome/', task, '/RCCA/questionnaire_scores_adj_', adjust,'_test.csv', sep = ''), row.names = FALSE)\n",
    "cors = diag(cor(brain_scores, questionnaire_scores))\n",
    "write.csv(data.frame(t(cors)), file = paste('Data/Connectome/', task, '/RCCA/correlation_adj_', adjust,'_test.csv', sep = ''), row.names = FALSE)"
   ]
  }
 ],
 "metadata": {
  "kernelspec": {
   "display_name": "R",
   "language": "R",
   "name": "ir"
  },
  "language_info": {
   "codemirror_mode": "r",
   "file_extension": ".r",
   "mimetype": "text/x-r-source",
   "name": "R",
   "pygments_lexer": "r",
   "version": "3.6.1"
  }
 },
 "nbformat": 4,
 "nbformat_minor": 2
}
