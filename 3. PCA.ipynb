{
 "cells": [
  {
   "cell_type": "code",
   "execution_count": 3,
   "metadata": {},
   "outputs": [],
   "source": [
    "library(ggplot2)"
   ]
  },
  {
   "cell_type": "markdown",
   "metadata": {},
   "source": [
    "# Load data"
   ]
  },
  {
   "cell_type": "markdown",
   "metadata": {},
   "source": [
    "Set up the folder that contains data."
   ]
  },
  {
   "cell_type": "code",
   "execution_count": 40,
   "metadata": {},
   "outputs": [],
   "source": [
    "c_folder_name = 'NIH/Emotion'"
   ]
  },
  {
   "cell_type": "markdown",
   "metadata": {},
   "source": [
    "Load adjusted connectome data."
   ]
  },
  {
   "cell_type": "code",
   "execution_count": 41,
   "metadata": {},
   "outputs": [],
   "source": [
    "c = read.table(paste('Data/Connectome/', c_folder_name, '/Adjust/c_adj.csv', sep = ''), sep = ',', header = TRUE, row.names = 1)"
   ]
  },
  {
   "cell_type": "markdown",
   "metadata": {},
   "source": [
    "# Center and scale connectome data"
   ]
  },
  {
   "cell_type": "markdown",
   "metadata": {},
   "source": [
    "Before applying PCA, scale the data (already centered due to the adjustment) and save scaling parameters."
   ]
  },
  {
   "cell_type": "code",
   "execution_count": 42,
   "metadata": {},
   "outputs": [],
   "source": [
    "c_sd = scale(c, center = FALSE, scale = TRUE)"
   ]
  },
  {
   "cell_type": "code",
   "execution_count": 43,
   "metadata": {},
   "outputs": [],
   "source": [
    "sds = apply(c, 2, sd)\n",
    "write.csv(data.frame('c_pair' = names(sds), 'sd' = sds), paste('Data/Connectome/', c_folder_name, '/PCA/sd.csv', sep = ''), row.names = FALSE)"
   ]
  },
  {
   "cell_type": "markdown",
   "metadata": {},
   "source": [
    "# PCA"
   ]
  },
  {
   "cell_type": "markdown",
   "metadata": {},
   "source": [
    "Find principal components for standardized data."
   ]
  },
  {
   "cell_type": "code",
   "execution_count": 44,
   "metadata": {},
   "outputs": [],
   "source": [
    "pca = prcomp(c_sd)"
   ]
  },
  {
   "cell_type": "markdown",
   "metadata": {},
   "source": [
    "Save rotation matrix and principal components."
   ]
  },
  {
   "cell_type": "code",
   "execution_count": 45,
   "metadata": {},
   "outputs": [],
   "source": [
    "write.csv(data.frame('c_pair' = rownames(pca$rotation), pca$rotation), file = paste('Data/Connectome/', c_folder_name, '/PCA/rotation.csv', sep = ''), row.names = FALSE)\n",
    "write.csv(data.frame('Subject' = rownames(c), pca$x), file = paste('Data/Connectome/', c_folder_name, '/PCA/c_pca.csv', sep = ''), row.names = FALSE)"
   ]
  },
  {
   "cell_type": "markdown",
   "metadata": {},
   "source": [
    "Save variance explained vs #components."
   ]
  },
  {
   "cell_type": "code",
   "execution_count": 46,
   "metadata": {},
   "outputs": [],
   "source": [
    "var = pca$sdev^2\n",
    "var_exp = cumsum(var)/sum(var)\n",
    "write.csv(data.frame(var_exp), paste('Data/Connectome/', c_folder_name, '/PCA/ve.csv', sep = ''), row.names = FALSE)"
   ]
  },
  {
   "cell_type": "markdown",
   "metadata": {},
   "source": [
    "Plot variance explained vs #components."
   ]
  },
  {
   "cell_type": "code",
   "execution_count": 47,
   "metadata": {},
   "outputs": [],
   "source": [
    "p = ggplot(NULL, aes(x = 1:length(var_exp), y = var_exp)) + \n",
    "    geom_point(size = 1, shape = 16) +\n",
    "    geom_line() +\n",
    "    xlab('#components') +\n",
    "    ylab('variance explained')+\n",
    "    ggtitle('Variance explained')\n",
    "for (threshold in c(0.9, 0.8, 0.7, 0.6)){\n",
    "    n_pca = sum(var_exp<=threshold)\n",
    "    p = p + geom_hline(yintercept = threshold, linetype = \"dashed\", colour = 'red') +\n",
    "    annotate(\"text\", x = length(var_exp)/20, y = threshold + 0.01, label = paste('#comp =', n_pca))\n",
    "}\n",
    "ggsave(file = paste('Data/Connectome/', c_folder_name, '/PCA/ve_plot.png', sep = ''), device = 'png', plot = p, width = 10, height = 10)"
   ]
  }
 ],
 "metadata": {
  "kernelspec": {
   "display_name": "R",
   "language": "R",
   "name": "ir"
  },
  "language_info": {
   "codemirror_mode": "r",
   "file_extension": ".r",
   "mimetype": "text/x-r-source",
   "name": "R",
   "pygments_lexer": "r",
   "version": "3.6.1"
  }
 },
 "nbformat": 4,
 "nbformat_minor": 2
}
