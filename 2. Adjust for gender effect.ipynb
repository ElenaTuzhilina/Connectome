{
 "cells": [
  {
   "cell_type": "code",
   "execution_count": 2,
   "metadata": {},
   "outputs": [],
   "source": [
    "library(dummies)"
   ]
  },
  {
   "cell_type": "markdown",
   "metadata": {},
   "source": [
    "# Load data"
   ]
  },
  {
   "cell_type": "markdown",
   "metadata": {},
   "source": [
    "Set up the folders that contains data."
   ]
  },
  {
   "cell_type": "code",
   "execution_count": 21,
   "metadata": {},
   "outputs": [],
   "source": [
    "c_folder_name = 'NIH/Rest'\n",
    "q_folder_name = 'NIH'"
   ]
  },
  {
   "cell_type": "markdown",
   "metadata": {},
   "source": [
    "Load gender, questionnaires and connectome data."
   ]
  },
  {
   "cell_type": "code",
   "execution_count": 22,
   "metadata": {},
   "outputs": [],
   "source": [
    "c = read.table(paste('Data/Connectome/', c_folder_name, '/c.csv', sep = ''), sep = ',', header = TRUE, row.names = 1)\n",
    "q = read.table(paste('Data/Questionnaire/', q_folder_name, '/q.csv', sep = ''), sep = ',', header = TRUE, row.names = 1)\n",
    "gender = read.table(paste('Data/Questionnaire/', q_folder_name, '/gender.csv', sep = ''), sep = ',', header = TRUE, row.names = 1)"
   ]
  },
  {
   "cell_type": "markdown",
   "metadata": {},
   "source": [
    "Create dummy variables for gender."
   ]
  },
  {
   "cell_type": "code",
   "execution_count": 23,
   "metadata": {},
   "outputs": [
    {
     "name": "stderr",
     "output_type": "stream",
     "text": [
      "Warning message in model.matrix.default(~x - 1, model.frame(~x - 1), contrasts = FALSE):\n",
      "\"non-list contrasts argument ignored\""
     ]
    }
   ],
   "source": [
    "gender_dummy = dummy.data.frame(gender)"
   ]
  },
  {
   "cell_type": "markdown",
   "metadata": {},
   "source": [
    "# Adjust questionnaire for gender effect"
   ]
  },
  {
   "cell_type": "markdown",
   "metadata": {},
   "source": [
    "Run regression *q~gender*."
   ]
  },
  {
   "cell_type": "code",
   "execution_count": 16,
   "metadata": {},
   "outputs": [],
   "source": [
    "LM = lm(as.matrix(q) ~ as.matrix(gender_dummy[rownames(q),]) + 0)\n",
    "q_adj = LM$residuals"
   ]
  },
  {
   "cell_type": "markdown",
   "metadata": {},
   "source": [
    "Save residuals as well as regression coefficients."
   ]
  },
  {
   "cell_type": "code",
   "execution_count": 17,
   "metadata": {},
   "outputs": [],
   "source": [
    "write.csv(data.frame('Gender' = c('F', 'M'), LM$coef), file = paste('Data/Questionnaire/', q_folder_name, '/beta_adj.csv', sep = ''), row.names = FALSE)\n",
    "write.csv(data.frame('Subject' = rownames(q), q_adj), file = paste('Data/Questionnaire/', q_folder_name,'/q_adj.csv', sep = ''), row.names = FALSE)  "
   ]
  },
  {
   "cell_type": "markdown",
   "metadata": {},
   "source": [
    "# Adjust connectome for gender effect"
   ]
  },
  {
   "cell_type": "markdown",
   "metadata": {},
   "source": [
    "Run regression *c~gender*."
   ]
  },
  {
   "cell_type": "code",
   "execution_count": 41,
   "metadata": {},
   "outputs": [],
   "source": [
    "gender_matrix = as.matrix(gender_dummy[rownames(c),])\n",
    "beta_hat = solve(t(gender_matrix) %*% gender_matrix) %*% (t(gender_matrix) %*% as.matrix(c))\n",
    "c_hat = gender_matrix %*% beta_hat\n",
    "c_adj = c - c_hat"
   ]
  },
  {
   "cell_type": "markdown",
   "metadata": {},
   "source": [
    "Save residuals as well as regression coefficients."
   ]
  },
  {
   "cell_type": "code",
   "execution_count": 55,
   "metadata": {},
   "outputs": [],
   "source": [
    "write.csv(data.frame('Gender' = c('F', 'M'), beta_hat), file = paste('Data/Connectome/', c_folder_name, '/Adjust/beta_adj.csv', sep = ''), row.names = FALSE)\n",
    "write.csv(data.frame('Subject' = rownames(c_adj), c_adj), file = paste('Data/Connectome/', c_folder_name, '/Adjust/c_adj.csv', sep = ''), row.names = FALSE)"
   ]
  }
 ],
 "metadata": {
  "kernelspec": {
   "display_name": "R",
   "language": "R",
   "name": "ir"
  },
  "language_info": {
   "codemirror_mode": "r",
   "file_extension": ".r",
   "mimetype": "text/x-r-source",
   "name": "R",
   "pygments_lexer": "r",
   "version": "3.6.1"
  }
 },
 "nbformat": 4,
 "nbformat_minor": 2
}
