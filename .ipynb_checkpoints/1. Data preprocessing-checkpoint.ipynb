{
 "cells": [
  {
   "cell_type": "markdown",
   "metadata": {},
   "source": [
    "# Create connectome matrix"
   ]
  },
  {
   "cell_type": "markdown",
   "metadata": {},
   "source": [
    "Set up the folder that contains raw data."
   ]
  },
  {
   "cell_type": "code",
   "execution_count": null,
   "metadata": {},
   "outputs": [],
   "source": [
    "task = 'Rest'\n",
    "ids_length = 6"
   ]
  },
  {
   "cell_type": "markdown",
   "metadata": {},
   "source": [
    "Store all values above diagonal of connectome matices in matrix *c*."
   ]
  },
  {
   "cell_type": "code",
   "execution_count": null,
   "metadata": {},
   "outputs": [],
   "source": [
    "files = list.files(paste('Data/Connectome/', task,'/Raw', sep = ''))\n",
    "c = c()\n",
    "c_ids = c()\n",
    "\n",
    "for(file in files){\n",
    "    data = read.csv(paste('Data/Connectome/', task, '/Raw/', file, sep = ''), header = FALSE)\n",
    "    c_ids = append(c_ids, substr(file, 1, ids_length))\n",
    "    colnames(data) = NULL\n",
    "    c = rbind(c, data[upper.tri(data, diag = FALSE)])\n",
    "}\n",
    "n = ncol(data)"
   ]
  },
  {
   "cell_type": "code",
   "execution_count": null,
   "metadata": {},
   "outputs": [],
   "source": [
    "c_names = matrix(paste('c', rep(1:n, n), rep(1:n, rep(n, n)), sep = '_'), n, n)\n",
    "c_names = c_names[upper.tri(c_names, diag = FALSE)]\n",
    "colnames(c) = c_names"
   ]
  },
  {
   "cell_type": "code",
   "execution_count": null,
   "metadata": {},
   "outputs": [],
   "source": [
    "write.csv(data.frame('Subject' = c_ids, c), file = paste('Data/Connectome/', task, '/c.csv', sep = ''), row.names = FALSE)  "
   ]
  },
  {
   "cell_type": "markdown",
   "metadata": {},
   "source": [
    "# Create questionnaire matrix"
   ]
  },
  {
   "cell_type": "code",
   "execution_count": null,
   "metadata": {},
   "outputs": [],
   "source": [
    "data = read.table(paste('Data/Questionnaire/questionnaire.csv', sep = ''), sep = ',', header = TRUE, row.names = 1)"
   ]
  },
  {
   "cell_type": "markdown",
   "metadata": {},
   "source": [
    "Save gender+motion information in *gender_motion.csv*."
   ]
  },
  {
   "cell_type": "code",
   "execution_count": null,
   "metadata": {},
   "outputs": [],
   "source": [
    "gender_motion = subset(data, select = c(Gender, motion_rest)) # use motion_emo for emotion and motion_rest for rest\n",
    "colnames(gender_motion)[2] = 'Motion'\n",
    "write.csv(data.frame('Subject' = rownames(gender_motion), gender_motion), file = paste('Data/Questionnaire/', task, '/gender_motion.csv', sep = ''), row.names = FALSE)  "
   ]
  },
  {
   "cell_type": "markdown",
   "metadata": {},
   "source": [
    "Save family information in *family.csv*."
   ]
  },
  {
   "cell_type": "code",
   "execution_count": null,
   "metadata": {},
   "outputs": [],
   "source": [
    "family = subset(data, select = c(Family_ID))\n",
    "write.csv(data.frame('Subject' = rownames(family), family), file = paste('Data/Questionnaire/family.csv', sep = ''), row.names = FALSE)  "
   ]
  },
  {
   "cell_type": "markdown",
   "metadata": {},
   "source": [
    "Save questionnaire in *q.csv*."
   ]
  },
  {
   "cell_type": "code",
   "execution_count": null,
   "metadata": {},
   "outputs": [],
   "source": [
    "q = subset(data, select = -c(Family_ID, Gender, Age_in_Yrs, motion_rest, motion_emo))\n",
    "write.csv(data.frame('Subject' = rownames(q), q), file = paste('Data/Questionnaire/q.csv', sep = ''), row.names = FALSE)  "
   ]
  }
 ],
 "metadata": {
  "kernelspec": {
   "display_name": "R",
   "language": "R",
   "name": "ir"
  },
  "language_info": {
   "codemirror_mode": "r",
   "file_extension": ".r",
   "mimetype": "text/x-r-source",
   "name": "R",
   "pygments_lexer": "r",
   "version": "3.6.1"
  }
 },
 "nbformat": 4,
 "nbformat_minor": 2
}
