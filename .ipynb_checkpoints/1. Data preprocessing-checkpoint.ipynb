{
 "cells": [
  {
   "cell_type": "markdown",
   "metadata": {},
   "source": [
    "# Create connectome matrix"
   ]
  },
  {
   "cell_type": "markdown",
   "metadata": {},
   "source": [
    "Set up the folder that contains raw data."
   ]
  },
  {
   "cell_type": "code",
   "execution_count": null,
   "metadata": {},
   "outputs": [],
   "source": [
    "c_folder_name = 'NIH/Emotion'\n",
    "ids_length = 6"
   ]
  },
  {
   "cell_type": "markdown",
   "metadata": {},
   "source": [
    "Store all values above diagonal of connectome matices in matrix *c*."
   ]
  },
  {
   "cell_type": "code",
   "execution_count": null,
   "metadata": {},
   "outputs": [],
   "source": [
    "files = list.files(paste('Data/Connectome/', c_folder_name,'/Raw', sep = ''))\n",
    "c = c()\n",
    "c_ids = c()\n",
    "\n",
    "for(file in files){\n",
    "    data = read.csv(paste('Data/Connectome/', c_folder_name, '/Raw/', file, sep = ''), header = FALSE)\n",
    "    c_ids = append(c_ids, substr(file, 1, ids_length))\n",
    "    colnames(data) = NULL\n",
    "    c = rbind(c, data[upper.tri(data, diag = FALSE)])\n",
    "}\n",
    "n = ncol(data)"
   ]
  },
  {
   "cell_type": "code",
   "execution_count": null,
   "metadata": {},
   "outputs": [],
   "source": [
    "c_names = matrix(paste('c', rep(1:n, n), rep(1:n, rep(n, n)), sep = '_'), n, n)\n",
    "c_names = c_names[upper.tri(c_names, diag = FALSE)]\n",
    "colnames(c) = c_names"
   ]
  },
  {
   "cell_type": "code",
   "execution_count": null,
   "metadata": {},
   "outputs": [],
   "source": [
    "write.csv(data.frame('Subject' = c_ids, c), file = paste('Data/Connectome/', c_folder_name, '/c.csv', sep = ''), row.names = FALSE)  "
   ]
  },
  {
   "cell_type": "markdown",
   "metadata": {},
   "source": [
    "# Create questionnaire matrix"
   ]
  },
  {
   "cell_type": "markdown",
   "metadata": {},
   "source": [
    "Set up the folder that contains raw data."
   ]
  },
  {
   "cell_type": "code",
   "execution_count": null,
   "metadata": {},
   "outputs": [],
   "source": [
    "q_folder_name = 'NIH'"
   ]
  },
  {
   "cell_type": "markdown",
   "metadata": {},
   "source": [
    "Save questionnaire matrix and gender information in *q.csv* and *gender.csv*."
   ]
  },
  {
   "cell_type": "code",
   "execution_count": null,
   "metadata": {},
   "outputs": [],
   "source": [
    "data = read.csv(paste('Data/Questionnaire/', q_folder_name,'/Raw/questionnaire.csv', sep = ''), header = TRUE)\n",
    "write.csv(subset(data, select = c(Subject, Gender)), file = paste('Data/Questionnaire/', q_folder_name, '/gender.csv', sep = ''), row.names = FALSE)  \n",
    "write.csv(subset(data, select = -c(Gender, Age_in_Yrs)), file = paste('Data/Questionnaire/', q_folder_name, '/q.csv', sep = ''), row.names = FALSE)  "
   ]
  }
 ],
 "metadata": {
  "kernelspec": {
   "display_name": "R",
   "language": "R",
   "name": "ir"
  },
  "language_info": {
   "codemirror_mode": "r",
   "file_extension": ".r",
   "mimetype": "text/x-r-source",
   "name": "R",
   "pygments_lexer": "r",
   "version": "3.6.1"
  }
 },
 "nbformat": 4,
 "nbformat_minor": 2
}
