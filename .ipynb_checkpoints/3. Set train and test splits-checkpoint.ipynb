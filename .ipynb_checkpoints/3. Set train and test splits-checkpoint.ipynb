{
 "cells": [
  {
   "cell_type": "markdown",
   "metadata": {},
   "source": [
    "# Load family info"
   ]
  },
  {
   "cell_type": "code",
   "execution_count": 12,
   "metadata": {},
   "outputs": [],
   "source": [
    "family = read.table(paste('Data/Questionnaire/family.csv', sep = ''), sep = ',', header = TRUE, row.names = 1)"
   ]
  },
  {
   "cell_type": "markdown",
   "metadata": {},
   "source": [
    "# Set train and test split"
   ]
  },
  {
   "cell_type": "code",
   "execution_count": 13,
   "metadata": {},
   "outputs": [],
   "source": [
    "set.seed(0)\n",
    "n_fam = length(unique(family$Family_ID))\n",
    "labels = sample(n_fam)\n",
    "family$Family_ID = as.numeric(factor(family$Family_ID, labels = sample(n_fam)))"
   ]
  },
  {
   "cell_type": "code",
   "execution_count": 14,
   "metadata": {},
   "outputs": [],
   "source": [
    "family_test = subset(family, Family_ID/n_fam <= 0.2) \n",
    "family_train = subset(family, Family_ID/n_fam > 0.2) "
   ]
  },
  {
   "cell_type": "markdown",
   "metadata": {},
   "source": [
    "# Save train and test ids"
   ]
  },
  {
   "cell_type": "code",
   "execution_count": 18,
   "metadata": {},
   "outputs": [],
   "source": [
    "write.csv(data.frame('Subject' = rownames(family_train)), file = paste('Data/Questionnaire/subject_train.csv', sep = ''), row.names = FALSE)\n",
    "write.csv(data.frame('Subject' = rownames(family_test)), file = paste('Data/Questionnaire/subject_test.csv', sep = ''), row.names = FALSE)"
   ]
  }
 ],
 "metadata": {
  "kernelspec": {
   "display_name": "R",
   "language": "R",
   "name": "ir"
  },
  "language_info": {
   "codemirror_mode": "r",
   "file_extension": ".r",
   "mimetype": "text/x-r-source",
   "name": "R",
   "pygments_lexer": "r",
   "version": "3.6.1"
  }
 },
 "nbformat": 4,
 "nbformat_minor": 2
}
