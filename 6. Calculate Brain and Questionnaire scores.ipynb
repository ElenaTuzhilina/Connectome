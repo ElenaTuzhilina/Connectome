{
 "cells": [
  {
   "cell_type": "markdown",
   "metadata": {},
   "source": [
    "# Load the data"
   ]
  },
  {
   "cell_type": "markdown",
   "metadata": {},
   "source": [
    "Set up the folders that contains data."
   ]
  },
  {
   "cell_type": "code",
   "execution_count": 1,
   "metadata": {},
   "outputs": [],
   "source": [
    "c_folder_name = 'NIH/Emotion'\n",
    "c_new_folder_name = 'NIH/Emotion'"
   ]
  },
  {
   "cell_type": "markdown",
   "metadata": {},
   "source": [
    "Load weights and adjusted connectome data."
   ]
  },
  {
   "cell_type": "code",
   "execution_count": 2,
   "metadata": {},
   "outputs": [],
   "source": [
    "c_adj = read.table(paste('Data/Connectome/', c_new_folder_name, '/Adjust/c_adj.csv', sep = ''), sep = ',', header = TRUE, row.names = 1)\n",
    "c_transform = read.table(paste('Data/Connectome/', c_folder_name, '/transformation.csv', sep = ''), sep = ',', header = TRUE, row.names = 1)"
   ]
  },
  {
   "cell_type": "markdown",
   "metadata": {},
   "source": [
    "# Brain scores"
   ]
  },
  {
   "cell_type": "markdown",
   "metadata": {},
   "source": [
    "Calculate and save brain scores."
   ]
  },
  {
   "cell_type": "code",
   "execution_count": 3,
   "metadata": {},
   "outputs": [],
   "source": [
    "brain_scores = as.matrix(c_adj)%*%as.matrix(c_transform)\n",
    "write.csv(data.frame('Subject' = rownames(brain_scores), brain_scores), file = paste('Data/Connectome/', c_new_folder_name, '/brain_scores.csv', sep = ''), row.names = FALSE)"
   ]
  },
  {
   "cell_type": "markdown",
   "metadata": {},
   "source": [
    "# Questionnaire scores"
   ]
  },
  {
   "cell_type": "code",
   "execution_count": 4,
   "metadata": {},
   "outputs": [],
   "source": [
    "q_new_folder_name = 'NIH'"
   ]
  },
  {
   "cell_type": "code",
   "execution_count": 5,
   "metadata": {},
   "outputs": [],
   "source": [
    "q_adj = read.table(paste('Data/Questionnaire/', q_new_folder_name, '/q_adj.csv', sep = ''), sep = ',', header = TRUE, row.names = 1)\n",
    "q_transform = read.table(paste('Data/Connectome/', c_folder_name, '/RCCA/beta.csv', sep = ''), sep = ',', header = TRUE, row.names = 1)"
   ]
  },
  {
   "cell_type": "code",
   "execution_count": 6,
   "metadata": {},
   "outputs": [],
   "source": [
    "questionnaire_scores = as.matrix(q_adj)%*%as.matrix(q_transform)\n",
    "write.csv(data.frame('Subject' = rownames(questionnaire_scores), questionnaire_scores), file = paste('Data/Connectome/', c_new_folder_name, '/questionnaire_scores.csv', sep = ''), row.names = FALSE)"
   ]
  }
 ],
 "metadata": {
  "kernelspec": {
   "display_name": "R",
   "language": "R",
   "name": "ir"
  },
  "language_info": {
   "codemirror_mode": "r",
   "file_extension": ".r",
   "mimetype": "text/x-r-source",
   "name": "R",
   "pygments_lexer": "r",
   "version": "3.6.1"
  }
 },
 "nbformat": 4,
 "nbformat_minor": 2
}
