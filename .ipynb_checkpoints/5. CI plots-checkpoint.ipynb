{
 "cells": [
  {
   "cell_type": "code",
   "execution_count": 104,
   "metadata": {},
   "outputs": [],
   "source": [
    "data = read.csv('Data/Connectome/NIH/Rest/RCCA/rcca_cor.csv', header = TRUE)"
   ]
  },
  {
   "cell_type": "code",
   "execution_count": 106,
   "metadata": {},
   "outputs": [],
   "source": [
    "lambda1_opt = 10 \n",
    "data_train = subset(data, lambda1 == lambda1_opt & set == 'train' )\n",
    "data_test = subset(data, lambda1 == lambda1_opt & set == 'test' )"
   ]
  },
  {
   "cell_type": "code",
   "execution_count": 107,
   "metadata": {},
   "outputs": [],
   "source": [
    "df = data.frame('component' = 1:6, 'mean' = apply(data_train[,1:100], 1, mean), t(apply(data_train[,1:100], 1, function(x) quantile(x, c(0.025, 0.975)))), 'set' = 'train')\n",
    "df = rbind(df, data.frame('component' = 1:6, 'mean' = apply(data_test[,1:100], 1, mean), t(apply(data_test[,1:100], 1, function(x) quantile(x, c(0.025, 0.975)))), 'set' = 'test'))\n",
    "colnames(df) = c('component', 'mean', 'lower', 'upper', 'set')"
   ]
  },
  {
   "cell_type": "code",
   "execution_count": 108,
   "metadata": {},
   "outputs": [],
   "source": [
    "library(ggplot2)\n",
    "plt = ggplot(df)+\n",
    "geom_errorbar(mapping = aes(x = component, ymin = lower, ymax = upper, group = set), width=0.1, color = 'black', size = 0.7)+\n",
    "geom_hline(mapping = aes(yintercept = 0), color = 'darkgreen')+\n",
    "geom_point(mapping = aes(x = component, y = mean, fill = set, color = set), size = 2, shape = 23)+\n",
    "scale_fill_manual(values = c('red', 'blue'))+\n",
    "scale_color_manual(values = c('red', 'blue'))+\n",
    "ylab('correlation')+\n",
    "ggtitle('RCCA best model 95% confidence intervals')\n",
    "ggsave(file = 'Results/NIH/Rest/RCCA/rcca_CI.png', device = 'png', plot = plt, width = 6, height = 7)"
   ]
  }
 ],
 "metadata": {
  "kernelspec": {
   "display_name": "R",
   "language": "R",
   "name": "ir"
  },
  "language_info": {
   "codemirror_mode": "r",
   "file_extension": ".r",
   "mimetype": "text/x-r-source",
   "name": "R",
   "pygments_lexer": "r",
   "version": "3.6.1"
  }
 },
 "nbformat": 4,
 "nbformat_minor": 2
}
