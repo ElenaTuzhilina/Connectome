{
 "cells": [
  {
   "cell_type": "markdown",
   "metadata": {},
   "source": [
    "# Load data"
   ]
  },
  {
   "cell_type": "code",
   "execution_count": 16,
   "metadata": {},
   "outputs": [],
   "source": [
    "method = 'RCCA'\n",
    "type = 'Rest'\n",
    "data = read.csv(paste('Data/Connectome/NIH/', type,'/', method, '/rcca_cor.csv', sep = ''), header = TRUE)"
   ]
  },
  {
   "cell_type": "code",
   "execution_count": 17,
   "metadata": {},
   "outputs": [],
   "source": [
    "lambda1_opt = 10 \n",
    "data_train = subset(data, lambda1 == lambda1_opt & set == 'train' )\n",
    "data_test = subset(data, lambda1 == lambda1_opt & set == 'test' )"
   ]
  },
  {
   "cell_type": "code",
   "execution_count": 18,
   "metadata": {},
   "outputs": [],
   "source": [
    "df = data.frame('component' = 1:6, 'mean' = apply(data_train[,1:100], 1, mean), t(apply(data_train[,1:100], 1, function(x) quantile(x, c(0.025, 0.975)))), 'set' = 'train')\n",
    "df = rbind(df, data.frame('component' = 1:6, 'mean' = apply(data_test[,1:100], 1, mean), t(apply(data_test[,1:100], 1, function(x) quantile(x, c(0.025, 0.975)))), 'set' = 'test'))\n",
    "colnames(df) = c('component', 'mean', 'lower', 'upper', 'set')"
   ]
  },
  {
   "cell_type": "markdown",
   "metadata": {},
   "source": [
    "# Plot CI"
   ]
  },
  {
   "cell_type": "code",
   "execution_count": 19,
   "metadata": {},
   "outputs": [],
   "source": [
    "library(ggplot2)\n",
    "plt = ggplot(df)+\n",
    "geom_errorbar(mapping = aes(x = component, ymin = lower, ymax = upper, group = set), width=0.1, color = 'black', size = 0.7)+\n",
    "geom_hline(mapping = aes(yintercept = 0), color = 'darkgreen')+\n",
    "geom_point(mapping = aes(x = component, y = mean, fill = set, color = set), size = 2, shape = 23)+\n",
    "scale_fill_manual(values = c('red', 'blue'))+\n",
    "scale_color_manual(values = c('red', 'blue'))+\n",
    "ylab('correlation')+\n",
    "ggtitle(paste(type, 'best model 95% confidence intervals'))\n",
    "ggsave(file = paste('Results/NIH/', type, '/', method, '/', tolower(method), '_CI.png', sep = ''), device = 'png', plot = plt, width = 6, height = 7)\n",
    "ggsave(file = paste('Data/Connectome/NIH/', type, '/', method, '/', tolower(method), '_CI.png', sep = ''), device = 'png', plot = plt, width = 6, height = 7)"
   ]
  },
  {
   "cell_type": "code",
   "execution_count": null,
   "metadata": {},
   "outputs": [],
   "source": []
  }
 ],
 "metadata": {
  "kernelspec": {
   "display_name": "R",
   "language": "R",
   "name": "ir"
  },
  "language_info": {
   "codemirror_mode": "r",
   "file_extension": ".r",
   "mimetype": "text/x-r-source",
   "name": "R",
   "pygments_lexer": "r",
   "version": "3.6.1"
  }
 },
 "nbformat": 4,
 "nbformat_minor": 2
}
