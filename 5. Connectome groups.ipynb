{
 "cells": [
  {
   "cell_type": "markdown",
   "metadata": {},
   "source": [
    "# Upload region groups"
   ]
  },
  {
   "cell_type": "code",
   "execution_count": 8,
   "metadata": {},
   "outputs": [],
   "source": [
    "groups = read.table(paste('Data/Connectome/groups.csv', sep = ''), sep = ',', header = TRUE)\n",
    "groups = groups$Network_abbreviation"
   ]
  },
  {
   "cell_type": "markdown",
   "metadata": {},
   "source": [
    "# Create region-to-region names"
   ]
  },
  {
   "cell_type": "code",
   "execution_count": 19,
   "metadata": {},
   "outputs": [],
   "source": [
    "names = unique(groups)\n",
    "n = length(names)\n",
    "pairs = matrix(paste(rep(names, n), rep(names, rep(n, n)), sep = '_'), n, n)\n",
    "name_pairs_u = pairs[upper.tri(pairs, diag = FALSE)]\n",
    "name_pairs_l = t(pairs)[upper.tri(pairs, diag = FALSE)]\n",
    "name_pairs_d = diag(pairs)"
   ]
  },
  {
   "cell_type": "code",
   "execution_count": 20,
   "metadata": {
    "scrolled": true
   },
   "outputs": [],
   "source": [
    "n = length(groups)\n",
    "pairs = matrix(paste(rep(groups, n), rep(groups, rep(n, n)), sep = '_'), n, n)\n",
    "pairs = pairs[upper.tri(pairs, diag = FALSE)]"
   ]
  },
  {
   "cell_type": "code",
   "execution_count": 28,
   "metadata": {},
   "outputs": [],
   "source": [
    "pairs_c = matrix(paste('c', rep(1:n, n), rep(1:n, rep(n, n)), sep = '_'), n, n)\n",
    "pairs_c = pairs_c[upper.tri(pairs_c, diag = FALSE)]"
   ]
  },
  {
   "cell_type": "markdown",
   "metadata": {},
   "source": [
    "# Delete dublicating pairs"
   ]
  },
  {
   "cell_type": "code",
   "execution_count": 29,
   "metadata": {},
   "outputs": [],
   "source": [
    "levels = c(name_pairs_u, name_pairs_l, name_pairs_d) \n",
    "labels = c(name_pairs_u, name_pairs_u, name_pairs_d)\n",
    "pairs_match = factor(pairs, levels = levels, labels = labels)"
   ]
  },
  {
   "cell_type": "markdown",
   "metadata": {},
   "source": [
    "# Save"
   ]
  },
  {
   "cell_type": "code",
   "execution_count": 31,
   "metadata": {},
   "outputs": [],
   "source": [
    "write.csv(data.frame('Pair' = pairs_c, 'Region' = pairs_match), file = paste('Data/Connectome/region_to_region.csv', sep = ''), row.names = FALSE)"
   ]
  }
 ],
 "metadata": {
  "kernelspec": {
   "display_name": "R",
   "language": "R",
   "name": "ir"
  },
  "language_info": {
   "codemirror_mode": "r",
   "file_extension": ".r",
   "mimetype": "text/x-r-source",
   "name": "R",
   "pygments_lexer": "r",
   "version": "3.6.1"
  }
 },
 "nbformat": 4,
 "nbformat_minor": 2
}
