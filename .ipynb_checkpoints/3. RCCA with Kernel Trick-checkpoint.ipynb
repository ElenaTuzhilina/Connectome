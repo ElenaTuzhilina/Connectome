{
 "cells": [
  {
   "cell_type": "code",
   "execution_count": null,
   "metadata": {},
   "outputs": [],
   "source": [
    "library(ggplot2)\n",
    "library(gridExtra)\n",
    "library(grid)\n",
    "library(matrixStats)\n",
    "library(fda)"
   ]
  },
  {
   "cell_type": "markdown",
   "metadata": {},
   "source": [
    "# Load data"
   ]
  },
  {
   "cell_type": "markdown",
   "metadata": {},
   "source": [
    "Set up the folders that contains data."
   ]
  },
  {
   "cell_type": "code",
   "execution_count": null,
   "metadata": {},
   "outputs": [],
   "source": [
    "c_folder_name = 'NIH/Emotion'\n",
    "q_folder_name = 'NIH'"
   ]
  },
  {
   "cell_type": "markdown",
   "metadata": {},
   "source": [
    "Load questionnaires and connectome."
   ]
  },
  {
   "cell_type": "code",
   "execution_count": null,
   "metadata": {},
   "outputs": [],
   "source": [
    "c = read.table(paste('Data/Connectome/', c_folder_name, '/Adjust/c_adj.csv', sep = ''), sep = ',', header = TRUE, row.names = 1)"
   ]
  },
  {
   "cell_type": "code",
   "execution_count": null,
   "metadata": {},
   "outputs": [],
   "source": [
    "q = read.table(paste('Data/Questionnaire/', q_folder_name, '/Adjust/q_adj.csv', sep = ''), sep = ',', header = TRUE, row.names = 1)\n",
    "q = q[rownames(c),]"
   ]
  },
  {
   "cell_type": "markdown",
   "metadata": {},
   "source": [
    "Keep only negative questionnaires."
   ]
  },
  {
   "cell_type": "code",
   "execution_count": null,
   "metadata": {},
   "outputs": [],
   "source": [
    "q = q[,1:6]\n",
    "colnames(q)"
   ]
  },
  {
   "cell_type": "markdown",
   "metadata": {},
   "source": [
    "# Cross-Validated RCCA"
   ]
  },
  {
   "cell_type": "markdown",
   "metadata": {},
   "source": [
    "Splits the data in train (80%) and test (20%) at random and returns the canonical correlations for training and test data.\n",
    "Calculate 1SD confidence intervals for train and test canonical correlations."
   ]
  },
  {
   "cell_type": "code",
   "execution_count": null,
   "metadata": {},
   "outputs": [],
   "source": [
    "RCCA_CV = function(X, Y, lambda1s, nreps = 100){\n",
    "    ncomp = min(ncol(X), ncol(Y))\n",
    "    n = nrow(X)\n",
    "    cor_cv = c()\n",
    "    #compute R and V for matrix X\n",
    "    SVD = svd(X)\n",
    "    R = SVD$u %*% diag(SVD$d)\n",
    "    V = SVD$v\n",
    "    rownames(V) = colnames(X)\n",
    "    for(lambda1 in lambda1s){\n",
    "        cor_train = matrix(0, ncomp, nreps)\n",
    "        cor_test = matrix(0, ncomp, nreps)\n",
    "        colnames(cor_train) = paste('seed', 1:nreps, sep = '')\n",
    "        colnames(cor_test) = paste('seed', 1:nreps, sep = '')\n",
    "        #repeat split nreps times and save train and test correlations\n",
    "        for(i in 1:nreps){\n",
    "            set.seed(i)\n",
    "            #split the data into train and test\n",
    "            ind_train = sample(n, size = round(n * 0.8))\n",
    "            #run RCCA\n",
    "            Crr = var(R[ind_train, ], na.rm = TRUE, use = \"pairwise\") + diag(lambda1, ncol(R))\n",
    "            Cyy = var(Y[ind_train, ], na.rm = TRUE, use = \"pairwise\")\n",
    "            Cry = cov(R[ind_train, ], Y[ind_train, ], use = \"pairwise\")\n",
    "            RCCA = geigen(Cry, Crr, Cyy)\n",
    "            names(RCCA) = c(\"cor\", \"xcoef\", \"ycoef\")\n",
    "            #compute coefficients\n",
    "            alpha = V %*% RCCA$xcoef\n",
    "            beta = RCCA$ycoef\n",
    "            #compute train and test correlation\n",
    "            cor_train[,i] = RCCA$cor\n",
    "            cor_test[,i] = diag(cor(X[-ind_train, ]%*%alpha, Y[-ind_train, ]%*%beta))\n",
    "        }\n",
    "        cor_cv = rbind(cor_cv, data.frame(cor_train, 'comp' = 1:ncomp, 'set' = 'train', 'lambda1' = lambda1), \n",
    "                             data.frame(cor_test, 'comp' = 1:ncomp, 'set' = 'test', 'lambda1' = lambda1))\n",
    "    }\n",
    "    return(cor_cv)\n",
    " }"
   ]
  },
  {
   "cell_type": "markdown",
   "metadata": {},
   "source": [
    "# Run grid search for RCCA"
   ]
  },
  {
   "cell_type": "markdown",
   "metadata": {},
   "source": [
    "Vary $\\lambda_1$ and compute GRCCA."
   ]
  },
  {
   "cell_type": "code",
   "execution_count": null,
   "metadata": {},
   "outputs": [],
   "source": [
    "lambda1s = 10^seq(-2,6)\n",
    "nreps = 100\n",
    "\n",
    "cor_cv = RCCA_CV(as.matrix(c), as.matrix(q), lambda1s, nreps)\n",
    "write.csv(cor_cv, file = paste('Data/Connectome/', c_folder_name, '/RCCA/rcca_cor.csv', sep = ''), row.names = FALSE)"
   ]
  },
  {
   "cell_type": "markdown",
   "metadata": {},
   "source": [
    "Plot GRCCA results for different values of $\\lambda_1$ and $\\nu$."
   ]
  },
  {
   "cell_type": "code",
   "execution_count": null,
   "metadata": {},
   "outputs": [],
   "source": [
    "cor_plots = list()\n",
    "ncomp = ncol(q)\n",
    "i = 1\n",
    "\n",
    "for(lam1 in lambda1s){\n",
    "    cor_train = data.frame(t(subset(cor_cv, lambda1 == lam1 & set == 'train')[, 1:nreps]))\n",
    "    colnames(cor_train) = 1:ncomp\n",
    "    cor_test = data.frame(t(subset(cor_cv, lambda1 == lam1 & set == 'test')[, 1:nreps]))\n",
    "    colnames(cor_test) = 1:ncomp     \n",
    "    cor_plots[[i]] = ggplot() +\n",
    "        geom_hline(yintercept = 0, color = 'darkgreen') +\n",
    "        geom_boxplot(stack(cor_train), mapping = aes(x = ind, y = values), outlier.alpha = 0, fatten = 0, fill = 'white')+\n",
    "        geom_boxplot(stack(cor_test), mapping = aes(x = ind, y = values), outlier.alpha = 0, fatten = 0, fill = 'white')+\n",
    "        geom_point(data.frame('x' = 1:ncomp, 'y' = colMeans(cor_train)), mapping = aes(x, y), size = 2, shape = 23, color = 'red', fill = 'red') +\n",
    "        geom_point(data.frame('x' = 1:ncomp, 'y' = colMeans(cor_test)), mapping = aes(x, y), size = 2, shape = 23, color = 'blue', fill = 'blue') +    \n",
    "        ylim(-0.3, 1.1)+\n",
    "        xlab('component') +\n",
    "        ylab('correlation')+\n",
    "        ggtitle(bquote(paste(lambda[1], '=', .(lam1))))\n",
    "    i = i + 1\n",
    "}\n",
    "cor_plots = do.call(\"grid.arrange\", c(cor_plots, ncol = 3))\n",
    "ggsave(file = paste('Data/Connectome/', c_folder_name, '/RCCA/rcca_grid_search(boxplot).png', sep = ''), device = 'png', plot = cor_plots, width = 8, height = 10)"
   ]
  },
  {
   "cell_type": "markdown",
   "metadata": {},
   "source": [
    "Search for the best $\\lambda_1$ with the highest value of the first test canonical correlation."
   ]
  },
  {
   "cell_type": "code",
   "execution_count": null,
   "metadata": {},
   "outputs": [],
   "source": [
    "first_plots = list()\n",
    "\n",
    "first = data.frame(t(subset(cor_cv, set == 'test' & comp == 1)[,1:nreps]))\n",
    "colnames(first) = lambda1s\n",
    "center = colMeans(first)\n",
    "lambda1_opt = lambda1s[which.max(center)]\n",
    "first_plot = ggplot() +\n",
    "    geom_hline(yintercept = 0, color = 'darkgreen') +\n",
    "    geom_boxplot(stack(first), mapping = aes(x = as.factor(log(as.numeric(paste(ind)), 10)), y = values), outlier.alpha = 0, fatten = 0, fill = 'white')+\n",
    "    geom_point(data.frame('lambda' = lambda1s, 'cor' = center), mapping = aes(x = as.factor(log(lambda, 10)), y = cor), size = 2, shape = 23, color = 'blue', fill = 'blue') +\n",
    "    geom_line(data.frame('lambda' = lambda1s, 'cor' = center), mapping = aes(x = as.factor(log(lambda, 10)), y = cor), color = 'blue', group = 1) + \n",
    "    xlab(bquote(paste('log(', lambda[1], ')', sep = ''))) +\n",
    "    ylab('first canonical correlation')+\n",
    "    ggtitle(bquote(paste('max correlation = ', .(round(max(center), 3)), '     ', lambda[1], ' optimal = ', .(lambda1_opt), sep = ' ')))\n",
    "\n",
    "first_plot\n",
    "ggsave(file = paste('Data/Connectome/', c_folder_name, '/RCCA/rcca_best_lambda(boxplot).png', sep = ''), device = 'png', plot = first_plot, width = 7, height = 4)"
   ]
  },
  {
   "cell_type": "markdown",
   "metadata": {},
   "source": [
    "# Calculate RCCA for the best lambda"
   ]
  },
  {
   "cell_type": "code",
   "execution_count": null,
   "metadata": {},
   "outputs": [],
   "source": [
    "RCCA = function(X, Y, lambda1){\n",
    "    SVD = svd(X)\n",
    "    R = SVD$u %*% diag(SVD$d)\n",
    "    V = SVD$v\n",
    "    rownames(V) = colnames(X)\n",
    "    Crr = var(R, na.rm = TRUE, use = \"pairwise\") + diag(lambda1, ncol(R))\n",
    "    Cyy = var(Y, na.rm = TRUE, use = \"pairwise\")\n",
    "    Cry = cov(R, Y, use = \"pairwise\")\n",
    "    RCCA = geigen(Cry, Crr, Cyy)\n",
    "    names(RCCA) = c(\"cor\", \"xcoef\", \"ycoef\")\n",
    "    RCCA$xcoef = V %*% RCCA$xcoef\n",
    "    return(list(cor = RCCA$cor, xcoef = RCCA$xcoef, ycoef = RCCA$ycoef))\n",
    "}"
   ]
  },
  {
   "cell_type": "code",
   "execution_count": null,
   "metadata": {},
   "outputs": [],
   "source": [
    "#Emotion\n",
    "#lambda1_opt = 10\n",
    "#Rest\n",
    "#lambda1_opt = 10\n",
    "best = RCCA(as.matrix(c), as.matrix(q), lambda1_opt)"
   ]
  },
  {
   "cell_type": "markdown",
   "metadata": {},
   "source": [
    "Save the loadings. "
   ]
  },
  {
   "cell_type": "code",
   "execution_count": null,
   "metadata": {},
   "outputs": [],
   "source": [
    "alpha = best$xcoef\n",
    "colnames(alpha) = paste('RCCA', 1:ncol(alpha), sep = '')\n",
    "beta = best$ycoef\n",
    "colnames(beta) = paste('RCCA', 1:ncol(beta), sep = '')\n",
    "write.csv(data.frame('c_pair' = colnames(c), alpha), file = paste('Data/Connectome/', c_folder_name, '/RCCA/alpha.csv', sep = ''), row.names = FALSE)\n",
    "write.csv(data.frame('q' = rownames(beta), beta), file = paste('Data/Connectome/', c_folder_name, '/RCCA/beta.csv', sep = ''), row.names = FALSE)"
   ]
  },
  {
   "cell_type": "markdown",
   "metadata": {},
   "source": [
    "Save scores."
   ]
  },
  {
   "cell_type": "code",
   "execution_count": null,
   "metadata": {},
   "outputs": [],
   "source": [
    "brain_scores = as.matrix(c)%*%as.matrix(alpha)\n",
    "write.csv(data.frame('Subject' = rownames(brain_scores), brain_scores), file = paste('Data/Connectome/', c_folder_name, '/RCCA/brain_scores.csv', sep = ''), row.names = FALSE)"
   ]
  },
  {
   "cell_type": "code",
   "execution_count": null,
   "metadata": {},
   "outputs": [],
   "source": [
    "questionnaire_scores = as.matrix(q)%*%as.matrix(beta)\n",
    "write.csv(data.frame('Subject' = rownames(questionnaire_scores), questionnaire_scores), file = paste('Data/Connectome/', c_folder_name, '/RCCA/questionnaire_scores.csv', sep = ''), row.names = FALSE)"
   ]
  }
 ],
 "metadata": {
  "kernelspec": {
   "display_name": "R",
   "language": "R",
   "name": "ir"
  },
  "language_info": {
   "codemirror_mode": "r",
   "file_extension": ".r",
   "mimetype": "text/x-r-source",
   "name": "R",
   "pygments_lexer": "r",
   "version": "3.6.1"
  }
 },
 "nbformat": 4,
 "nbformat_minor": 2
}
