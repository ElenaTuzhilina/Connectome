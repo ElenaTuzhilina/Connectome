{
 "cells": [
  {
   "cell_type": "markdown",
   "metadata": {},
   "source": [
    "# Connectome transformation matrix"
   ]
  },
  {
   "cell_type": "markdown",
   "metadata": {},
   "source": [
    "Set up the folders that contains data."
   ]
  },
  {
   "cell_type": "code",
   "execution_count": 23,
   "metadata": {},
   "outputs": [],
   "source": [
    "c_folder_name = 'NIH/Emotion'"
   ]
  },
  {
   "cell_type": "markdown",
   "metadata": {},
   "source": [
    "Load scaling factors as well as PCA and RCCA loadings."
   ]
  },
  {
   "cell_type": "code",
   "execution_count": 24,
   "metadata": {},
   "outputs": [],
   "source": [
    "sd = read.table(paste('Data/Connectome/', c_folder_name, '/PCA/sd.csv', sep = ''), sep = ',', header = TRUE, row.names = 1)\n",
    "PCA_rot = read.table(paste('Data/Connectome/', c_folder_name, '/PCA/rotation.csv', sep = ''), sep = ',', header = TRUE, row.names = 1)\n",
    "RCCA_rot = read.table(paste('Data/Connectome/', c_folder_name, '/RCCA/alpha.csv', sep = ''), sep = ',',header = TRUE, row.names = 1)"
   ]
  },
  {
   "cell_type": "markdown",
   "metadata": {},
   "source": [
    "Calculate and save transformation"
   ]
  },
  {
   "cell_type": "code",
   "execution_count": 26,
   "metadata": {},
   "outputs": [],
   "source": [
    "c_adj = read.table(paste('Data/Connectome/', c_folder_name, '/Adjust/c_adj.csv', sep = ''), sep = ',', header = TRUE, row.names = 1)"
   ]
  },
  {
   "cell_type": "code",
   "execution_count": 42,
   "metadata": {},
   "outputs": [],
   "source": [
    "transform = t(scale(t(as.matrix(PCA_rot[,1:nrow(RCCA_rot)])%*%as.matrix(RCCA_rot)), center = FALSE, scale = sd$sd))\n",
    "write.csv(data.frame('c_pair' = rownames(transform), transform), paste('Data/Connectome/', c_folder_name, '/transformation.csv', sep = ''), row.names = FALSE)"
   ]
  }
 ],
 "metadata": {
  "kernelspec": {
   "display_name": "R",
   "language": "R",
   "name": "ir"
  },
  "language_info": {
   "codemirror_mode": "r",
   "file_extension": ".r",
   "mimetype": "text/x-r-source",
   "name": "R",
   "pygments_lexer": "r",
   "version": "3.6.1"
  }
 },
 "nbformat": 4,
 "nbformat_minor": 2
}
