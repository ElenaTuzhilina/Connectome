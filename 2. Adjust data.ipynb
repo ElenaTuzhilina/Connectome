{
 "cells": [
  {
   "cell_type": "code",
   "execution_count": null,
   "metadata": {},
   "outputs": [],
   "source": [
    "library(dummies)"
   ]
  },
  {
   "cell_type": "markdown",
   "metadata": {},
   "source": [
    "# Load data"
   ]
  },
  {
   "cell_type": "markdown",
   "metadata": {},
   "source": [
    "Set up the folders that contains data."
   ]
  },
  {
   "cell_type": "code",
   "execution_count": null,
   "metadata": {},
   "outputs": [],
   "source": [
    "task = 'Rest'"
   ]
  },
  {
   "cell_type": "markdown",
   "metadata": {},
   "source": [
    "Load gender, questionnaires and connectome data."
   ]
  },
  {
   "cell_type": "code",
   "execution_count": null,
   "metadata": {},
   "outputs": [],
   "source": [
    "#c = read.table(paste('Data/Connectome/', task, '/c.csv', sep = ''), sep = ',', header = TRUE, row.names = 1)\n",
    "q = read.table(paste('Data/Questionnaire/q.csv', sep = ''), sep = ',', header = TRUE, row.names = 1)"
   ]
  },
  {
   "cell_type": "code",
   "execution_count": null,
   "metadata": {},
   "outputs": [],
   "source": [
    "gender_motion = read.table(paste('Data/Questionnaire/', task, '/gender_motion.csv', sep = ''), sep = ',', header = TRUE, row.names = 1)"
   ]
  },
  {
   "cell_type": "markdown",
   "metadata": {},
   "source": [
    "Create dummy variables for gender."
   ]
  },
  {
   "cell_type": "code",
   "execution_count": null,
   "metadata": {},
   "outputs": [],
   "source": [
    "gender_motion = dummy.data.frame(gender_motion)\n",
    "gender = subset(gender_motion, select = c(GenderF, GenderM))"
   ]
  },
  {
   "cell_type": "code",
   "execution_count": null,
   "metadata": {},
   "outputs": [],
   "source": [
    "hist(log(gender_motion$Motion), xlab = 'log(motion)')"
   ]
  },
  {
   "cell_type": "markdown",
   "metadata": {},
   "source": [
    "# Adjust questionnaires for gender effect"
   ]
  },
  {
   "cell_type": "markdown",
   "metadata": {},
   "source": [
    "Run regression *q~gender*."
   ]
  },
  {
   "cell_type": "code",
   "execution_count": null,
   "metadata": {},
   "outputs": [],
   "source": [
    "gender = as.matrix(gender[rownames(q),])\n",
    "LM = lm(as.matrix(q) ~ gender + 0)\n",
    "q_adj = LM$residuals"
   ]
  },
  {
   "cell_type": "markdown",
   "metadata": {},
   "source": [
    "Save residuals as well as regression coefficients."
   ]
  },
  {
   "cell_type": "code",
   "execution_count": null,
   "metadata": {},
   "outputs": [],
   "source": [
    "write.csv(data.frame('Gender' = c('F', 'M'), LM$coef), file = paste('Data/Questionnaire/Adjust/beta_adj_gender.csv', sep = ''), row.names = FALSE)\n",
    "write.csv(data.frame('Subject' = rownames(q_adj), q_adj), file = paste('Data/Questionnaire/', task,'/Adjust/q_adj_gender.csv', sep = ''), row.names = FALSE)  "
   ]
  },
  {
   "cell_type": "markdown",
   "metadata": {},
   "source": [
    "# Adjust connectome data for gender effect"
   ]
  },
  {
   "cell_type": "markdown",
   "metadata": {},
   "source": [
    "Run regression *c~gender*."
   ]
  },
  {
   "cell_type": "code",
   "execution_count": null,
   "metadata": {},
   "outputs": [],
   "source": [
    "gender = as.matrix(gender[rownames(c),])\n",
    "beta_hat = solve(t(gender) %*% gender) %*% (t(gender) %*% as.matrix(c))\n",
    "c_hat = gender %*% beta_hat\n",
    "c_adj = c - c_hat"
   ]
  },
  {
   "cell_type": "markdown",
   "metadata": {},
   "source": [
    "Save residuals as well as regression coefficients."
   ]
  },
  {
   "cell_type": "code",
   "execution_count": null,
   "metadata": {},
   "outputs": [],
   "source": [
    "write.csv(data.frame('Gender' = c('F', 'M'), beta_hat), file = paste('Data/Connectome/', task, '/Adjust/beta_adj_gender.csv', sep = ''), row.names = FALSE)\n",
    "write.csv(data.frame('Subject' = rownames(c_adj), c_adj), file = paste('Data/Connectome/', task, '/Adjust/c_adj_gender.csv', sep = ''), row.names = FALSE)"
   ]
  },
  {
   "cell_type": "markdown",
   "metadata": {},
   "source": [
    "# Adjust connectome data for gender and log(motion) effect"
   ]
  },
  {
   "cell_type": "code",
   "execution_count": null,
   "metadata": {},
   "outputs": [],
   "source": [
    "gender_motion$Motion = log(gender_motion$Motion)"
   ]
  },
  {
   "cell_type": "markdown",
   "metadata": {},
   "source": [
    "Run regression *c~gender+log(motion)*."
   ]
  },
  {
   "cell_type": "code",
   "execution_count": null,
   "metadata": {},
   "outputs": [],
   "source": [
    "gender_motion = as.matrix(gender_motion[rownames(c),])\n",
    "beta_hat = solve(t(gender_motion) %*% gender_motion) %*% (t(gender_motion) %*% as.matrix(c))\n",
    "c_hat = gender_motion %*% beta_hat\n",
    "c_adj = c - c_hat"
   ]
  },
  {
   "cell_type": "markdown",
   "metadata": {},
   "source": [
    "Save residuals as well as regression coefficients."
   ]
  },
  {
   "cell_type": "code",
   "execution_count": null,
   "metadata": {},
   "outputs": [],
   "source": [
    "write.csv(data.frame('Gender' = c('F', 'M', 'log(Motion)'), beta_hat), file = paste('Data/Connectome/', task, '/Adjust/beta_adj_gender_motion.csv', sep = ''), row.names = FALSE)\n",
    "write.csv(data.frame('Subject' = rownames(c_adj), c_adj), file = paste('Data/Connectome/', task, '/Adjust/c_adj_gender_motion.csv', sep = ''), row.names = FALSE)"
   ]
  }
 ],
 "metadata": {
  "kernelspec": {
   "display_name": "R",
   "language": "R",
   "name": "ir"
  },
  "language_info": {
   "codemirror_mode": "r",
   "file_extension": ".r",
   "mimetype": "text/x-r-source",
   "name": "R",
   "pygments_lexer": "r",
   "version": "3.6.1"
  }
 },
 "nbformat": 4,
 "nbformat_minor": 2
}
