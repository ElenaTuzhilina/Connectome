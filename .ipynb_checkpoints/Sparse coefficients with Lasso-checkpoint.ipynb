{
 "cells": [
  {
   "cell_type": "code",
   "execution_count": null,
   "metadata": {},
   "outputs": [],
   "source": [
    "library(glmnet)"
   ]
  },
  {
   "cell_type": "markdown",
   "metadata": {},
   "source": [
    "# Load data"
   ]
  },
  {
   "cell_type": "markdown",
   "metadata": {},
   "source": [
    "Set up the folders that contains data."
   ]
  },
  {
   "cell_type": "code",
   "execution_count": null,
   "metadata": {},
   "outputs": [],
   "source": [
    "c_folder_name = 'NIH/Emotion'\n",
    "type = 'GRCCA'"
   ]
  },
  {
   "cell_type": "markdown",
   "metadata": {},
   "source": [
    "Load questionnaires, connectome and variance explained data."
   ]
  },
  {
   "cell_type": "code",
   "execution_count": null,
   "metadata": {},
   "outputs": [],
   "source": [
    "c = read.table(paste('Data/Connectome/', c_folder_name, '/Adjust/c_adj.csv', sep = ''), sep = ',', header = TRUE, row.names = 1)\n",
    "brain_scores = read.table(paste('Data/Connectome/', c_folder_name, '/', type, '/brain_scores.csv', sep = ''), sep = ',', header = TRUE, row.names = 1)"
   ]
  },
  {
   "cell_type": "markdown",
   "metadata": {},
   "source": [
    "# Sparse coefficients"
   ]
  },
  {
   "cell_type": "markdown",
   "metadata": {},
   "source": [
    "Pick brain score."
   ]
  },
  {
   "cell_type": "code",
   "execution_count": null,
   "metadata": {},
   "outputs": [],
   "source": [
    "score_num = 1\n",
    "score_name = 'first'\n",
    "#score_num = 2\n",
    "#score_name = 'second'"
   ]
  },
  {
   "cell_type": "markdown",
   "metadata": {},
   "source": [
    "Run Lasso for brain_score~questionnaires."
   ]
  },
  {
   "cell_type": "code",
   "execution_count": null,
   "metadata": {},
   "outputs": [],
   "source": [
    "model_lasso = glmnet(y = as.matrix(brain_scores)[,score_num], x = as.matrix(c), family = 'gaussian', standardize.response = TRUE, standardize = TRUE, alpha = 1, intercept = FALSE)\n",
    "plot(model_lasso$lambda, model_lasso$dev.ratio, type = 'l', col = 'red', xlab = 'lambda', ylab = 'dev.ratio')"
   ]
  },
  {
   "cell_type": "code",
   "execution_count": null,
   "metadata": {},
   "outputs": [],
   "source": [
    "lambda_opt = model_lasso$lambda[min(which(model_lasso$dev.ratio>=0.9))]\n",
    "coefs = coef(model_lasso, s = lambda_opt)\n",
    "nonzero_pairs = rownames(coefs)[which(coefs != 0)]\n",
    "cat('# lasso nonzero components = ', length(nonzero_pairs))\n",
    "brain_scores_lasso = as.matrix(c[,nonzero_pairs])%*%as.matrix(coefs[nonzero_pairs,])\n",
    "write.csv(data.frame('c_pair' = rownames(coefs)[-1], 'RCCA1' = coefs[-1,]), file = paste('Data/Connectome/', c_folder_name, '/', type, '/Sparse version for visualization/alpha_', score_name,'_lasso.csv', sep = ''), row.names = FALSE)\n",
    "write.csv(data.frame('Subject' = rownames(brain_scores_lasso), brain_scores_lasso), file = paste('Data/Connectome/', c_folder_name, '/', type, '/Sparse version for visualization/brain_score_', score_name,'_lasso.csv', sep = ''), row.names = FALSE)"
   ]
  },
  {
   "cell_type": "markdown",
   "metadata": {},
   "source": [
    "Run Elastic Net for brain_score~questionnaires."
   ]
  },
  {
   "cell_type": "code",
   "execution_count": null,
   "metadata": {},
   "outputs": [],
   "source": [
    "model_elastic = glmnet(y = as.matrix(brain_scores)[,score_num], x = as.matrix(c), family = 'gaussian', standardize.response = TRUE, standardize = TRUE, alpha = 0.5, intercept = FALSE)"
   ]
  },
  {
   "cell_type": "code",
   "execution_count": null,
   "metadata": {},
   "outputs": [],
   "source": [
    "plot(model_elastic$lambda, model_elastic$dev.ratio, type = 'l', col = 'red', xlab = 'lambda', ylab = 'dev.ratio')"
   ]
  },
  {
   "cell_type": "code",
   "execution_count": null,
   "metadata": {},
   "outputs": [],
   "source": [
    "lambda_opt = model_elastic$lambda[min(which(model_elastic$dev.ratio>=0.9))]\n",
    "coefs = coef(model_elastic, s = lambda_opt)\n",
    "nonzero_pairs = rownames(coefs)[which(coefs != 0)]\n",
    "cat('# elastic nonzero components = ', length(nonzero_pairs))\n",
    "brain_scores_elastic = as.matrix(c[,nonzero_pairs])%*%as.matrix(coefs[nonzero_pairs,])\n",
    "write.csv(data.frame('c_pair' = rownames(coefs)[-1], 'RCCA1' = coefs[-1,]), file = paste('Data/Connectome/', c_folder_name, '/', type, '/Sparse version for visualization/alpha_', score_name,'_elasticnet.csv', sep = ''), row.names = FALSE)\n",
    "write.csv(data.frame('Subject' = rownames(brain_scores_elastic), brain_scores_elastic), file = paste('Data/Connectome/', c_folder_name, '/', type, '/Sparse version for visualization/brain_score_', score_name,'_elasticnet.csv', sep = ''), row.names = FALSE)"
   ]
  }
 ],
 "metadata": {
  "kernelspec": {
   "display_name": "R",
   "language": "R",
   "name": "ir"
  },
  "language_info": {
   "codemirror_mode": "r",
   "file_extension": ".r",
   "mimetype": "text/x-r-source",
   "name": "R",
   "pygments_lexer": "r",
   "version": "3.6.1"
  }
 },
 "nbformat": 4,
 "nbformat_minor": 2
}
